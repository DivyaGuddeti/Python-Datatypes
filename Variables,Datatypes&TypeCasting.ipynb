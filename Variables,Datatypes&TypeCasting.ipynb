{
 "cells": [
  {
   "cell_type": "code",
   "execution_count": 1,
   "id": "c20684d4-49b7-43b2-b854-002c31230931",
   "metadata": {},
   "outputs": [],
   "source": [
    "# Om Sai Ram"
   ]
  },
  {
   "cell_type": "markdown",
   "id": "df854613-2e5e-4eaa-b3cf-e215e229e7b6",
   "metadata": {},
   "source": [
    "## 15th April - Python Intro and Variables "
   ]
  },
  {
   "cell_type": "code",
   "execution_count": 3,
   "id": "63b8c377-9a73-432a-af34-307414bedd27",
   "metadata": {},
   "outputs": [
    {
     "data": {
      "text/plain": [
       "9"
      ]
     },
     "execution_count": 3,
     "metadata": {},
     "output_type": "execute_result"
    }
   ],
   "source": [
    "va = 9\n",
    "va"
   ]
  },
  {
   "cell_type": "code",
   "execution_count": 5,
   "id": "bb6056c3-b67b-4b20-a851-f606a9bd28f8",
   "metadata": {},
   "outputs": [
    {
     "data": {
      "text/plain": [
       "140731671194296"
      ]
     },
     "execution_count": 5,
     "metadata": {},
     "output_type": "execute_result"
    }
   ],
   "source": [
    "id(va)"
   ]
  },
  {
   "cell_type": "code",
   "execution_count": 7,
   "id": "41e49427-69e4-4e6f-9ce7-837bc8a641c4",
   "metadata": {},
   "outputs": [
    {
     "ename": "SyntaxError",
     "evalue": "invalid decimal literal (3405626866.py, line 1)",
     "output_type": "error",
     "traceback": [
      "\u001b[1;36m  Cell \u001b[1;32mIn[7], line 1\u001b[1;36m\u001b[0m\n\u001b[1;33m    1nit = 19\u001b[0m\n\u001b[1;37m    ^\u001b[0m\n\u001b[1;31mSyntaxError\u001b[0m\u001b[1;31m:\u001b[0m invalid decimal literal\n"
     ]
    }
   ],
   "source": [
    "1nit = 19\n",
    "1nit"
   ]
  },
  {
   "cell_type": "code",
   "execution_count": 8,
   "id": "8ef5164d-6d21-421c-8162-2d33b5ca380d",
   "metadata": {},
   "outputs": [
    {
     "data": {
      "text/plain": [
       "18"
      ]
     },
     "execution_count": 8,
     "metadata": {},
     "output_type": "execute_result"
    }
   ],
   "source": [
    "nit1 = 18\n",
    "nit1"
   ]
  },
  {
   "cell_type": "code",
   "execution_count": 9,
   "id": "26ed4fb6-fa01-478a-bdcd-8fe9bf1cc838",
   "metadata": {},
   "outputs": [
    {
     "ename": "NameError",
     "evalue": "name 'NIT2' is not defined",
     "output_type": "error",
     "traceback": [
      "\u001b[1;31m---------------------------------------------------------------------------\u001b[0m",
      "\u001b[1;31mNameError\u001b[0m                                 Traceback (most recent call last)",
      "Cell \u001b[1;32mIn[9], line 2\u001b[0m\n\u001b[0;32m      1\u001b[0m nit2 \u001b[38;5;241m=\u001b[39m \u001b[38;5;241m4\u001b[39m\n\u001b[1;32m----> 2\u001b[0m NIT2\n",
      "\u001b[1;31mNameError\u001b[0m: name 'NIT2' is not defined"
     ]
    }
   ],
   "source": [
    "nit2 = 4\n",
    "NIT2"
   ]
  },
  {
   "cell_type": "code",
   "execution_count": 10,
   "id": "5ee3d45c-0d86-4fad-a9c1-49033621aa38",
   "metadata": {},
   "outputs": [
    {
     "data": {
      "text/plain": [
       "4"
      ]
     },
     "execution_count": 10,
     "metadata": {},
     "output_type": "execute_result"
    }
   ],
   "source": [
    "nit2"
   ]
  },
  {
   "cell_type": "code",
   "execution_count": 11,
   "id": "831b981e-d3fa-4b1d-9810-0952bfd26287",
   "metadata": {},
   "outputs": [
    {
     "ename": "SyntaxError",
     "evalue": "invalid syntax (434845991.py, line 1)",
     "output_type": "error",
     "traceback": [
      "\u001b[1;36m  Cell \u001b[1;32mIn[11], line 1\u001b[1;36m\u001b[0m\n\u001b[1;33m    v$ = 90\u001b[0m\n\u001b[1;37m     ^\u001b[0m\n\u001b[1;31mSyntaxError\u001b[0m\u001b[1;31m:\u001b[0m invalid syntax\n"
     ]
    }
   ],
   "source": [
    "v$ = 90\n",
    "v$"
   ]
  },
  {
   "cell_type": "code",
   "execution_count": 12,
   "id": "a117b293-9f09-42c8-b189-6668c3e2991a",
   "metadata": {},
   "outputs": [
    {
     "data": {
      "text/plain": [
       "90"
      ]
     },
     "execution_count": 12,
     "metadata": {},
     "output_type": "execute_result"
    }
   ],
   "source": [
    "v_ = 90\n",
    "v_"
   ]
  },
  {
   "cell_type": "code",
   "execution_count": 21,
   "id": "9e6d00d9-f69c-49fa-a49e-5a9947ccef30",
   "metadata": {},
   "outputs": [
    {
     "ename": "SyntaxError",
     "evalue": "invalid syntax (261522172.py, line 1)",
     "output_type": "error",
     "traceback": [
      "\u001b[1;36m  Cell \u001b[1;32mIn[21], line 1\u001b[1;36m\u001b[0m\n\u001b[1;33m    global = 90\u001b[0m\n\u001b[1;37m           ^\u001b[0m\n\u001b[1;31mSyntaxError\u001b[0m\u001b[1;31m:\u001b[0m invalid syntax\n"
     ]
    }
   ],
   "source": [
    "global = 90\n",
    "global"
   ]
  },
  {
   "cell_type": "code",
   "execution_count": 20,
   "id": "826e6bfb-6ec8-45db-af6a-4cc29024a77a",
   "metadata": {},
   "outputs": [
    {
     "data": {
      "text/plain": [
       "['False',\n",
       " 'None',\n",
       " 'True',\n",
       " 'and',\n",
       " 'as',\n",
       " 'assert',\n",
       " 'async',\n",
       " 'await',\n",
       " 'break',\n",
       " 'class',\n",
       " 'continue',\n",
       " 'def',\n",
       " 'del',\n",
       " 'elif',\n",
       " 'else',\n",
       " 'except',\n",
       " 'finally',\n",
       " 'for',\n",
       " 'from',\n",
       " 'global',\n",
       " 'if',\n",
       " 'import',\n",
       " 'in',\n",
       " 'is',\n",
       " 'lambda',\n",
       " 'nonlocal',\n",
       " 'not',\n",
       " 'or',\n",
       " 'pass',\n",
       " 'raise',\n",
       " 'return',\n",
       " 'try',\n",
       " 'while',\n",
       " 'with',\n",
       " 'yield']"
      ]
     },
     "execution_count": 20,
     "metadata": {},
     "output_type": "execute_result"
    }
   ],
   "source": [
    "import keyword\n",
    "keyword.kwlist"
   ]
  },
  {
   "cell_type": "code",
   "execution_count": 22,
   "id": "e91674d6-b28d-4240-a206-b00deb621778",
   "metadata": {},
   "outputs": [
    {
     "data": {
      "text/plain": [
       "35"
      ]
     },
     "execution_count": 22,
     "metadata": {},
     "output_type": "execute_result"
    }
   ],
   "source": [
    "len(keyword.kwlist)"
   ]
  },
  {
   "cell_type": "code",
   "execution_count": 23,
   "id": "d9091a8d-cd1c-4c00-ae0e-25cb01ae8422",
   "metadata": {},
   "outputs": [
    {
     "data": {
      "text/plain": [
       "67"
      ]
     },
     "execution_count": 23,
     "metadata": {},
     "output_type": "execute_result"
    }
   ],
   "source": [
    "For = 67\n",
    "For"
   ]
  },
  {
   "cell_type": "code",
   "execution_count": 24,
   "id": "65dcc610-063a-46cc-84c8-45ee71e54a78",
   "metadata": {},
   "outputs": [
    {
     "ename": "SyntaxError",
     "evalue": "invalid syntax (3552861974.py, line 1)",
     "output_type": "error",
     "traceback": [
      "\u001b[1;36m  Cell \u001b[1;32mIn[24], line 1\u001b[1;36m\u001b[0m\n\u001b[1;33m    def = 56\u001b[0m\n\u001b[1;37m        ^\u001b[0m\n\u001b[1;31mSyntaxError\u001b[0m\u001b[1;31m:\u001b[0m invalid syntax\n"
     ]
    }
   ],
   "source": [
    "def = 56\n",
    "def"
   ]
  },
  {
   "cell_type": "code",
   "execution_count": 25,
   "id": "c135e472-6187-4e6a-9027-00c3866f925d",
   "metadata": {},
   "outputs": [
    {
     "data": {
      "text/plain": [
       "57"
      ]
     },
     "execution_count": 25,
     "metadata": {},
     "output_type": "execute_result"
    }
   ],
   "source": [
    "Def = 57\n",
    "Def"
   ]
  },
  {
   "cell_type": "code",
   "execution_count": 26,
   "id": "50f2d17e-f093-447b-9490-c36151d4bbf4",
   "metadata": {},
   "outputs": [
    {
     "data": {
      "text/plain": [
       "6"
      ]
     },
     "execution_count": 26,
     "metadata": {},
     "output_type": "execute_result"
    }
   ],
   "source": [
    "a = 5\n",
    "b = 7\n",
    "c = 6\n",
    "a\n",
    "b\n",
    "c"
   ]
  },
  {
   "cell_type": "code",
   "execution_count": 27,
   "id": "cb300975-bbf3-4b73-bcc7-691b1f6722b8",
   "metadata": {},
   "outputs": [
    {
     "name": "stdout",
     "output_type": "stream",
     "text": [
      "5\n",
      "7\n",
      "6\n"
     ]
    }
   ],
   "source": [
    "print(a)\n",
    "print(b)\n",
    "print(c)"
   ]
  },
  {
   "cell_type": "code",
   "execution_count": 28,
   "id": "f90f50fa-548f-4138-9f2a-7d196464d5d7",
   "metadata": {},
   "outputs": [
    {
     "data": {
      "text/plain": [
       "'3.12.7 | packaged by Anaconda, Inc. | (main, Oct  4 2024, 13:17:27) [MSC v.1929 64 bit (AMD64)]'"
      ]
     },
     "execution_count": 28,
     "metadata": {},
     "output_type": "execute_result"
    }
   ],
   "source": [
    "import sys\n",
    "sys.version"
   ]
  },
  {
   "cell_type": "code",
   "execution_count": 29,
   "id": "5ad0195b-6b73-4d14-9f16-9a6a4f396a65",
   "metadata": {},
   "outputs": [
    {
     "data": {
      "text/plain": [
       "89"
      ]
     },
     "execution_count": 29,
     "metadata": {},
     "output_type": "execute_result"
    }
   ],
   "source": [
    "import_1 = 89\n",
    "import_1"
   ]
  },
  {
   "cell_type": "code",
   "execution_count": 30,
   "id": "c305a443-4ce2-4912-9e22-5713f8365e76",
   "metadata": {},
   "outputs": [],
   "source": [
    "name = \"Varun Kumar\""
   ]
  },
  {
   "cell_type": "code",
   "execution_count": 39,
   "id": "ed5048bc-848a-4432-b9c5-814762a521ef",
   "metadata": {},
   "outputs": [
    {
     "name": "stdout",
     "output_type": "stream",
     "text": [
      "Varun Kumar\n",
      "Varun Kumar\n"
     ]
    }
   ],
   "source": [
    "for i in range(2):\n",
    "    print(name)"
   ]
  },
  {
   "cell_type": "code",
   "execution_count": 40,
   "id": "36c22567-2c7f-42e2-a0f7-11966b0b9130",
   "metadata": {},
   "outputs": [
    {
     "name": "stdout",
     "output_type": "stream",
     "text": [
      "#\n",
      "##\n",
      "###\n",
      "####\n",
      "#####\n"
     ]
    }
   ],
   "source": [
    "# prompt: a python to print a triangle of \"#\"\n",
    "\n",
    "def print_triangle(rows):\n",
    "  for i in range(1, rows + 1):\n",
    "    print(\"#\" * i)\n",
    "\n",
    "# Example usage:\n",
    "print_triangle(5)\n"
   ]
  },
  {
   "cell_type": "code",
   "execution_count": 41,
   "id": "d65411a7-33cd-4b12-b006-629d914bec12",
   "metadata": {},
   "outputs": [],
   "source": [
    "# Om Sai Ram\n",
    "# Om Sai Ram\n",
    "# Om Sai Ram"
   ]
  },
  {
   "cell_type": "markdown",
   "id": "f4136020-085f-4426-a304-a1702cadc64d",
   "metadata": {},
   "source": [
    "## 16th April - Python Datatypes  "
   ]
  },
  {
   "cell_type": "markdown",
   "id": "ec1e7fbf-2179-4f42-b07c-284b62fabca5",
   "metadata": {},
   "source": [
    "### integer"
   ]
  },
  {
   "cell_type": "code",
   "execution_count": 42,
   "id": "973e612f-95c3-4371-942f-a12e95967fa8",
   "metadata": {},
   "outputs": [
    {
     "data": {
      "text/plain": [
       "45"
      ]
     },
     "execution_count": 42,
     "metadata": {},
     "output_type": "execute_result"
    }
   ],
   "source": [
    "i = 45\n",
    "i"
   ]
  },
  {
   "cell_type": "code",
   "execution_count": 43,
   "id": "d968ec35-e5e0-4444-b769-4ea078244a01",
   "metadata": {},
   "outputs": [
    {
     "name": "stdout",
     "output_type": "stream",
     "text": [
      "45\n",
      "<class 'int'>\n"
     ]
    }
   ],
   "source": [
    "print(i)\n",
    "print(type(i))"
   ]
  },
  {
   "cell_type": "code",
   "execution_count": 47,
   "id": "ddc48b7f-de65-4fad-a72c-70e845a01218",
   "metadata": {},
   "outputs": [
    {
     "ename": "TypeError",
     "evalue": "cannot unpack non-iterable int object",
     "output_type": "error",
     "traceback": [
      "\u001b[1;31m---------------------------------------------------------------------------\u001b[0m",
      "\u001b[1;31mTypeError\u001b[0m                                 Traceback (most recent call last)",
      "Cell \u001b[1;32mIn[47], line 1\u001b[0m\n\u001b[1;32m----> 1\u001b[0m i1, i2 \u001b[38;5;241m=\u001b[39m \u001b[38;5;241m10\u001b[39m\n",
      "\u001b[1;31mTypeError\u001b[0m: cannot unpack non-iterable int object"
     ]
    }
   ],
   "source": [
    "i1, i2 = 10 # invalid as we've assigned 2 values but defined 2 varibales"
   ]
  },
  {
   "cell_type": "code",
   "execution_count": 49,
   "id": "9375824c-b236-48de-8a89-ca3f41604035",
   "metadata": {},
   "outputs": [
    {
     "name": "stdout",
     "output_type": "stream",
     "text": [
      "10\n",
      "20\n",
      "30\n",
      "-10\n",
      "200\n",
      "0.5\n"
     ]
    }
   ],
   "source": [
    "i1, i2 = 10, 20\n",
    "print(i1)\n",
    "print(i2)\n",
    "print(i1+i2)\n",
    "print(i1-i2)\n",
    "print(i1*i2)\n",
    "print(i1/i2)"
   ]
  },
  {
   "cell_type": "markdown",
   "id": "63489aec-13bd-43fb-a684-0e0861bbe8c1",
   "metadata": {},
   "source": [
    "### float"
   ]
  },
  {
   "cell_type": "code",
   "execution_count": 45,
   "id": "395d4795-72e2-4099-a0bf-347cf3252be8",
   "metadata": {},
   "outputs": [
    {
     "data": {
      "text/plain": [
       "110.56"
      ]
     },
     "execution_count": 45,
     "metadata": {},
     "output_type": "execute_result"
    }
   ],
   "source": [
    "petrol = 110.56\n",
    "petrol"
   ]
  },
  {
   "cell_type": "code",
   "execution_count": 46,
   "id": "ed092a92-476b-4f93-b71e-9ee9ad786ea0",
   "metadata": {},
   "outputs": [
    {
     "data": {
      "text/plain": [
       "float"
      ]
     },
     "execution_count": 46,
     "metadata": {},
     "output_type": "execute_result"
    }
   ],
   "source": [
    "type(petrol)"
   ]
  },
  {
   "cell_type": "markdown",
   "id": "d21a95e1-73f3-4ae2-9598-679e514d4f97",
   "metadata": {},
   "source": [
    "### string"
   ]
  },
  {
   "cell_type": "code",
   "execution_count": 50,
   "id": "2921c6a3-8a8d-4637-b23b-2a6e499da84b",
   "metadata": {},
   "outputs": [
    {
     "ename": "NameError",
     "evalue": "name 'srikrishna' is not defined",
     "output_type": "error",
     "traceback": [
      "\u001b[1;31m---------------------------------------------------------------------------\u001b[0m",
      "\u001b[1;31mNameError\u001b[0m                                 Traceback (most recent call last)",
      "Cell \u001b[1;32mIn[50], line 1\u001b[0m\n\u001b[1;32m----> 1\u001b[0m s \u001b[38;5;241m=\u001b[39m srikrishna\n\u001b[0;32m      2\u001b[0m s\n",
      "\u001b[1;31mNameError\u001b[0m: name 'srikrishna' is not defined"
     ]
    }
   ],
   "source": [
    "s = srikrishna # invalid as the string should always be defined inside quotes' '\n",
    "s"
   ]
  },
  {
   "cell_type": "code",
   "execution_count": 51,
   "id": "10e34b2d-ae97-412c-9c93-65be3af2cc54",
   "metadata": {},
   "outputs": [
    {
     "data": {
      "text/plain": [
       "'srikrishna'"
      ]
     },
     "execution_count": 51,
     "metadata": {},
     "output_type": "execute_result"
    }
   ],
   "source": [
    "s = 'srikrishna'\n",
    "s"
   ]
  },
  {
   "cell_type": "code",
   "execution_count": 52,
   "id": "a5df8e3a-a710-4ba3-8fff-ec20fb563b7a",
   "metadata": {},
   "outputs": [
    {
     "data": {
      "text/plain": [
       "str"
      ]
     },
     "execution_count": 52,
     "metadata": {},
     "output_type": "execute_result"
    }
   ],
   "source": [
    "type(s)"
   ]
  },
  {
   "cell_type": "code",
   "execution_count": 53,
   "id": "58a637f7-6be9-4af7-9f2b-85925a7855fc",
   "metadata": {},
   "outputs": [
    {
     "data": {
      "text/plain": [
       "'Sai'"
      ]
     },
     "execution_count": 53,
     "metadata": {},
     "output_type": "execute_result"
    }
   ],
   "source": [
    "s1 = 'Sai'\n",
    "s1"
   ]
  },
  {
   "cell_type": "code",
   "execution_count": 54,
   "id": "3dd01fa2-5e8a-4dc3-bc4b-1bf612163045",
   "metadata": {},
   "outputs": [
    {
     "data": {
      "text/plain": [
       "'sairam'"
      ]
     },
     "execution_count": 54,
     "metadata": {},
     "output_type": "execute_result"
    }
   ],
   "source": [
    "s2 = \"sairam\"\n",
    "s2"
   ]
  },
  {
   "cell_type": "code",
   "execution_count": 55,
   "id": "3156920d-5c1c-4ef4-a25e-e2e710957604",
   "metadata": {},
   "outputs": [
    {
     "data": {
      "text/plain": [
       "\"Full Stack Data Science course\\n            It's a 6month course which had changed my career in to Golden world\""
      ]
     },
     "execution_count": 55,
     "metadata": {},
     "output_type": "execute_result"
    }
   ],
   "source": [
    "s3 = '''Full Stack Data Science course\n",
    "            It's a 6month course which had changed my career in to Golden world'''\n",
    "s3"
   ]
  },
  {
   "cell_type": "markdown",
   "id": "ee67b196-2db6-4a25-8967-383d0968420a",
   "metadata": {},
   "source": [
    "### Indexing"
   ]
  },
  {
   "cell_type": "code",
   "execution_count": 56,
   "id": "faf3e0e0-188a-424f-9ff0-ed1a16e3c6b1",
   "metadata": {},
   "outputs": [],
   "source": [
    "s = 'nareshit'"
   ]
  },
  {
   "cell_type": "code",
   "execution_count": 59,
   "id": "62eb4577-94e7-43d0-83b9-50e0c7d609b6",
   "metadata": {},
   "outputs": [
    {
     "name": "stdout",
     "output_type": "stream",
     "text": [
      "n\n",
      "t\n",
      "e\n"
     ]
    }
   ],
   "source": [
    "print(s[0])\n",
    "print(s[-1])\n",
    "print(s[3])"
   ]
  },
  {
   "cell_type": "markdown",
   "id": "40d5aa2c-935b-4b3c-9c91-5ddae1b11d27",
   "metadata": {},
   "source": [
    "### Slicing --> : "
   ]
  },
  {
   "cell_type": "code",
   "execution_count": 62,
   "id": "e527e4c3-c8f4-4635-930a-e6320ea8465c",
   "metadata": {},
   "outputs": [
    {
     "name": "stdout",
     "output_type": "stream",
     "text": [
      "nareshit\n"
     ]
    }
   ],
   "source": [
    "print(s[:])"
   ]
  },
  {
   "cell_type": "code",
   "execution_count": 63,
   "id": "d904aea7-d57f-4e97-be76-cf569fed2ba2",
   "metadata": {},
   "outputs": [
    {
     "name": "stdout",
     "output_type": "stream",
     "text": [
      "res\n"
     ]
    }
   ],
   "source": [
    "print(s[2:5])"
   ]
  },
  {
   "cell_type": "code",
   "execution_count": 64,
   "id": "8b904ffe-5ffb-4095-be7c-bf27fc775bd6",
   "metadata": {},
   "outputs": [
    {
     "name": "stdout",
     "output_type": "stream",
     "text": [
      "reshit\n"
     ]
    }
   ],
   "source": [
    "print(s[2:8])"
   ]
  },
  {
   "cell_type": "markdown",
   "id": "071e76dc-235d-4db0-8168-497aa8b60eb6",
   "metadata": {},
   "source": [
    "## 17th April - Bool, Complex Datatypes"
   ]
  },
  {
   "cell_type": "code",
   "execution_count": 65,
   "id": "6b2eb614-c637-4ec2-9a4c-66c7586d72aa",
   "metadata": {},
   "outputs": [
    {
     "ename": "NameError",
     "evalue": "name 'true' is not defined",
     "output_type": "error",
     "traceback": [
      "\u001b[1;31m---------------------------------------------------------------------------\u001b[0m",
      "\u001b[1;31mNameError\u001b[0m                                 Traceback (most recent call last)",
      "Cell \u001b[1;32mIn[65], line 1\u001b[0m\n\u001b[1;32m----> 1\u001b[0m true\n",
      "\u001b[1;31mNameError\u001b[0m: name 'true' is not defined"
     ]
    }
   ],
   "source": [
    "true # invalid as in true T must be capital"
   ]
  },
  {
   "cell_type": "code",
   "execution_count": 66,
   "id": "16a5b986-3059-48b5-8609-b596a49d4c51",
   "metadata": {},
   "outputs": [
    {
     "data": {
      "text/plain": [
       "True"
      ]
     },
     "execution_count": 66,
     "metadata": {},
     "output_type": "execute_result"
    }
   ],
   "source": [
    "True"
   ]
  },
  {
   "cell_type": "code",
   "execution_count": 67,
   "id": "f5182e5a-f163-4eb5-bad9-2ca8e2cfc370",
   "metadata": {},
   "outputs": [
    {
     "ename": "NameError",
     "evalue": "name 'false' is not defined",
     "output_type": "error",
     "traceback": [
      "\u001b[1;31m---------------------------------------------------------------------------\u001b[0m",
      "\u001b[1;31mNameError\u001b[0m                                 Traceback (most recent call last)",
      "Cell \u001b[1;32mIn[67], line 1\u001b[0m\n\u001b[1;32m----> 1\u001b[0m false\n",
      "\u001b[1;31mNameError\u001b[0m: name 'false' is not defined"
     ]
    }
   ],
   "source": [
    "false"
   ]
  },
  {
   "cell_type": "code",
   "execution_count": 68,
   "id": "97fbeed2-be5f-4311-a206-7c2911516cfa",
   "metadata": {},
   "outputs": [
    {
     "data": {
      "text/plain": [
       "False"
      ]
     },
     "execution_count": 68,
     "metadata": {},
     "output_type": "execute_result"
    }
   ],
   "source": [
    "False"
   ]
  },
  {
   "cell_type": "code",
   "execution_count": 70,
   "id": "be7ca53e-8010-4388-8240-f00a49e5f65d",
   "metadata": {},
   "outputs": [],
   "source": [
    "b = True\n",
    "b1 = False"
   ]
  },
  {
   "cell_type": "code",
   "execution_count": 71,
   "id": "8c0d173a-2901-420c-8c85-785d998e5bff",
   "metadata": {},
   "outputs": [
    {
     "data": {
      "text/plain": [
       "False"
      ]
     },
     "execution_count": 71,
     "metadata": {},
     "output_type": "execute_result"
    }
   ],
   "source": [
    "b1"
   ]
  },
  {
   "cell_type": "code",
   "execution_count": 72,
   "id": "56ad7c1c-c7df-4a6d-9a01-178393a50914",
   "metadata": {},
   "outputs": [
    {
     "data": {
      "text/plain": [
       "True"
      ]
     },
     "execution_count": 72,
     "metadata": {},
     "output_type": "execute_result"
    }
   ],
   "source": [
    "b"
   ]
  },
  {
   "cell_type": "code",
   "execution_count": 73,
   "id": "d3e67385-3fdd-4c45-988c-f7b17f4e69dc",
   "metadata": {},
   "outputs": [
    {
     "data": {
      "text/plain": [
       "1"
      ]
     },
     "execution_count": 73,
     "metadata": {},
     "output_type": "execute_result"
    }
   ],
   "source": [
    "b + b1"
   ]
  },
  {
   "cell_type": "code",
   "execution_count": 77,
   "id": "bcace0be-e2ea-4378-9b69-3a405f4b82c2",
   "metadata": {},
   "outputs": [
    {
     "name": "stdout",
     "output_type": "stream",
     "text": [
      "1\n",
      "0\n",
      "0.0\n",
      "0\n"
     ]
    }
   ],
   "source": [
    "print(b-b1)\n",
    "print(b*b1)\n",
    "print(b1/b) # float divison\n",
    "print(b1//b) # int divison"
   ]
  },
  {
   "cell_type": "code",
   "execution_count": 78,
   "id": "7fdf1cdb-0455-4bcb-afcf-a850ef093d18",
   "metadata": {},
   "outputs": [
    {
     "data": {
      "text/plain": [
       "bool"
      ]
     },
     "execution_count": 78,
     "metadata": {},
     "output_type": "execute_result"
    }
   ],
   "source": [
    "type(b)"
   ]
  },
  {
   "cell_type": "markdown",
   "id": "29d2ef38-bbe5-4603-924a-6e4645779259",
   "metadata": {},
   "source": [
    "## Complex"
   ]
  },
  {
   "cell_type": "markdown",
   "id": "8c622d85-1856-47a9-bb43-408972fd427a",
   "metadata": {},
   "source": [
    "### a + bj\n",
    "    . a - real part\n",
    "    . b - imaginary part\n",
    "    . j - square root of -1"
   ]
  },
  {
   "cell_type": "code",
   "execution_count": 80,
   "id": "3dbbdda9-3fe2-4fdb-ada0-2ae2b79d7c99",
   "metadata": {},
   "outputs": [
    {
     "data": {
      "text/plain": [
       "(10+20j)"
      ]
     },
     "execution_count": 80,
     "metadata": {},
     "output_type": "execute_result"
    }
   ],
   "source": [
    "c = 10 + 20j\n",
    "c"
   ]
  },
  {
   "cell_type": "code",
   "execution_count": 81,
   "id": "805e7900-008a-489a-a7ce-647410a13cda",
   "metadata": {},
   "outputs": [
    {
     "data": {
      "text/plain": [
       "complex"
      ]
     },
     "execution_count": 81,
     "metadata": {},
     "output_type": "execute_result"
    }
   ],
   "source": [
    "type(c)"
   ]
  },
  {
   "cell_type": "code",
   "execution_count": 82,
   "id": "9c463fa2-853b-4239-b30a-0e1050c8f61a",
   "metadata": {},
   "outputs": [
    {
     "data": {
      "text/plain": [
       "10.0"
      ]
     },
     "execution_count": 82,
     "metadata": {},
     "output_type": "execute_result"
    }
   ],
   "source": [
    "c.real"
   ]
  },
  {
   "cell_type": "code",
   "execution_count": 83,
   "id": "37320afc-635e-42f9-9137-c9b4d09f555a",
   "metadata": {},
   "outputs": [
    {
     "data": {
      "text/plain": [
       "20.0"
      ]
     },
     "execution_count": 83,
     "metadata": {},
     "output_type": "execute_result"
    }
   ],
   "source": [
    "c.imag"
   ]
  },
  {
   "cell_type": "code",
   "execution_count": 84,
   "id": "c603bdf0-4f99-428f-9fc5-947e72aa56f1",
   "metadata": {},
   "outputs": [
    {
     "data": {
      "text/plain": [
       "(3+5j)"
      ]
     },
     "execution_count": 84,
     "metadata": {},
     "output_type": "execute_result"
    }
   ],
   "source": [
    "c1 = 3 + 5J\n",
    "c1"
   ]
  },
  {
   "cell_type": "code",
   "execution_count": 85,
   "id": "c1f4e589-364c-46db-9d4a-caa50b8e4299",
   "metadata": {},
   "outputs": [
    {
     "name": "stdout",
     "output_type": "stream",
     "text": [
      "(10+20j)\n",
      "(3+5j)\n"
     ]
    }
   ],
   "source": [
    "print(c)\n",
    "print(c1)"
   ]
  },
  {
   "cell_type": "code",
   "execution_count": 86,
   "id": "73cd824a-a44c-4554-a143-6b8cbeabcc0b",
   "metadata": {},
   "outputs": [
    {
     "data": {
      "text/plain": [
       "(13+25j)"
      ]
     },
     "execution_count": 86,
     "metadata": {},
     "output_type": "execute_result"
    }
   ],
   "source": [
    "c + c1"
   ]
  },
  {
   "cell_type": "markdown",
   "id": "ed2f4b7a-7cd5-4cd6-b642-a3988e32ffa1",
   "metadata": {},
   "source": [
    "# Type casting or Type conversions"
   ]
  },
  {
   "cell_type": "code",
   "execution_count": 87,
   "id": "9cfeb134-a88c-43d3-b209-efcf386fc992",
   "metadata": {},
   "outputs": [
    {
     "data": {
      "text/plain": [
       "3"
      ]
     },
     "execution_count": 87,
     "metadata": {},
     "output_type": "execute_result"
    }
   ],
   "source": [
    "int(3.4) # float to int"
   ]
  },
  {
   "cell_type": "code",
   "execution_count": 90,
   "id": "b566a1ba-c9b9-4ce0-adc6-2d8c9387f402",
   "metadata": {},
   "outputs": [
    {
     "ename": "TypeError",
     "evalue": "'float' object cannot be interpreted as an integer",
     "output_type": "error",
     "traceback": [
      "\u001b[1;31m---------------------------------------------------------------------------\u001b[0m",
      "\u001b[1;31mTypeError\u001b[0m                                 Traceback (most recent call last)",
      "Cell \u001b[1;32mIn[90], line 1\u001b[0m\n\u001b[1;32m----> 1\u001b[0m \u001b[38;5;28mint\u001b[39m(\u001b[38;5;241m3.4\u001b[39m,\u001b[38;5;241m5.67\u001b[39m)\n",
      "\u001b[1;31mTypeError\u001b[0m: 'float' object cannot be interpreted as an integer"
     ]
    }
   ],
   "source": [
    "int(3.4,5.67) # invlaid as Type casting allows only a single argument"
   ]
  },
  {
   "cell_type": "code",
   "execution_count": 88,
   "id": "566d025b-32de-4a1a-9e34-cb6715d1047a",
   "metadata": {},
   "outputs": [
    {
     "data": {
      "text/plain": [
       "1"
      ]
     },
     "execution_count": 88,
     "metadata": {},
     "output_type": "execute_result"
    }
   ],
   "source": [
    "int(True) # bool to int"
   ]
  },
  {
   "cell_type": "code",
   "execution_count": 89,
   "id": "192492a2-19c3-4b4a-8548-6466550c2bf7",
   "metadata": {},
   "outputs": [
    {
     "ename": "TypeError",
     "evalue": "int() can't convert non-string with explicit base",
     "output_type": "error",
     "traceback": [
      "\u001b[1;31m---------------------------------------------------------------------------\u001b[0m",
      "\u001b[1;31mTypeError\u001b[0m                                 Traceback (most recent call last)",
      "Cell \u001b[1;32mIn[89], line 1\u001b[0m\n\u001b[1;32m----> 1\u001b[0m \u001b[38;5;28mint\u001b[39m(\u001b[38;5;28;01mTrue\u001b[39;00m, \u001b[38;5;28;01mFalse\u001b[39;00m)\n",
      "\u001b[1;31mTypeError\u001b[0m: int() can't convert non-string with explicit base"
     ]
    }
   ],
   "source": [
    "int(True, False)"
   ]
  },
  {
   "cell_type": "code",
   "execution_count": 91,
   "id": "ed979e14-7ad3-46a1-b2a8-2670c54682ce",
   "metadata": {},
   "outputs": [
    {
     "data": {
      "text/plain": [
       "0"
      ]
     },
     "execution_count": 91,
     "metadata": {},
     "output_type": "execute_result"
    }
   ],
   "source": [
    "int(False)"
   ]
  },
  {
   "cell_type": "code",
   "execution_count": 94,
   "id": "8050ad08-b67e-42f9-9044-06ccebee6ec7",
   "metadata": {},
   "outputs": [
    {
     "name": "stdout",
     "output_type": "stream",
     "text": [
      "3\n",
      "1\n",
      "10\n"
     ]
    }
   ],
   "source": [
    "print(int(3.4))\n",
    "print(int(True))\n",
    "print(int(\"10\"))"
   ]
  },
  {
   "cell_type": "code",
   "execution_count": 95,
   "id": "f8b0fcfc-f704-4372-b023-2c0859f07e81",
   "metadata": {},
   "outputs": [
    {
     "ename": "TypeError",
     "evalue": "int() argument must be a string, a bytes-like object or a real number, not 'complex'",
     "output_type": "error",
     "traceback": [
      "\u001b[1;31m---------------------------------------------------------------------------\u001b[0m",
      "\u001b[1;31mTypeError\u001b[0m                                 Traceback (most recent call last)",
      "Cell \u001b[1;32mIn[95], line 1\u001b[0m\n\u001b[1;32m----> 1\u001b[0m \u001b[38;5;28mprint\u001b[39m(\u001b[38;5;28mint\u001b[39m(\u001b[38;5;241m3\u001b[39m\u001b[38;5;241m+\u001b[39m\u001b[38;5;241m4\u001b[39mj))\n",
      "\u001b[1;31mTypeError\u001b[0m: int() argument must be a string, a bytes-like object or a real number, not 'complex'"
     ]
    }
   ],
   "source": [
    "print(int(3+4j)) # invladi as typecasting doesn't allow complex datatype"
   ]
  },
  {
   "cell_type": "code",
   "execution_count": 96,
   "id": "3a3f2d54-bf6c-47b8-99fc-8d2b1a913cb4",
   "metadata": {},
   "outputs": [
    {
     "ename": "ValueError",
     "evalue": "invalid literal for int() with base 10: 'ten'",
     "output_type": "error",
     "traceback": [
      "\u001b[1;31m---------------------------------------------------------------------------\u001b[0m",
      "\u001b[1;31mValueError\u001b[0m                                Traceback (most recent call last)",
      "Cell \u001b[1;32mIn[96], line 1\u001b[0m\n\u001b[1;32m----> 1\u001b[0m \u001b[38;5;28mprint\u001b[39m(\u001b[38;5;28mint\u001b[39m(\u001b[38;5;124m'\u001b[39m\u001b[38;5;124mten\u001b[39m\u001b[38;5;124m'\u001b[39m))\n",
      "\u001b[1;31mValueError\u001b[0m: invalid literal for int() with base 10: 'ten'"
     ]
    }
   ],
   "source": [
    "print(int('ten')) # invalid as the typecasting allows strings with numbers only"
   ]
  },
  {
   "cell_type": "code",
   "execution_count": null,
   "id": "29782295-f466-49b7-bac9-a2438d2dbf86",
   "metadata": {},
   "outputs": [],
   "source": []
  }
 ],
 "metadata": {
  "kernelspec": {
   "display_name": "Python 3 (ipykernel)",
   "language": "python",
   "name": "python3"
  },
  "language_info": {
   "codemirror_mode": {
    "name": "ipython",
    "version": 3
   },
   "file_extension": ".py",
   "mimetype": "text/x-python",
   "name": "python",
   "nbconvert_exporter": "python",
   "pygments_lexer": "ipython3",
   "version": "3.12.7"
  }
 },
 "nbformat": 4,
 "nbformat_minor": 5
}
